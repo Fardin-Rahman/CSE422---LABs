{
  "nbformat": 4,
  "nbformat_minor": 0,
  "metadata": {
    "colab": {
      "provenance": []
    },
    "kernelspec": {
      "name": "python3",
      "display_name": "Python 3"
    },
    "language_info": {
      "name": "python"
    }
  },
  "cells": [
    {
      "cell_type": "code",
      "execution_count": 1,
      "metadata": {
        "id": "saGxJa_oDYt9"
      },
      "outputs": [],
      "source": [
        "file = open(\"/content/drive/MyDrive/A-Data/Ai Lab/Input_file.txt\", \"r\").read().split(\"\\n\")\n",
        "word = {}\n",
        "h_v={}\n",
        "tree={}\n",
        "for f in file:\n",
        "  f=f.split()\n",
        "  word[f[0][0]] = f[0]\n",
        "  h_v[f[0][0]] = int(f[1])\n",
        "\n",
        "  tree[f[0][0]] = []\n",
        "  for i in range(2,len(f),2):\n",
        "    tree[f[0][0]].append((f[i][0],int(f[i+1])))\n"
      ]
    },
    {
      "cell_type": "code",
      "source": [
        "tree"
      ],
      "metadata": {
        "colab": {
          "base_uri": "https://localhost:8080/"
        },
        "id": "T2UAnvSNOhZY",
        "outputId": "75a5cf0e-d787-4aa9-e787-4cb496e8be73"
      },
      "execution_count": 50,
      "outputs": [
        {
          "output_type": "execute_result",
          "data": {
            "text/plain": [
              "{'A': [('Z', 75), ('T', 118), ('S', 140)],\n",
              " 'C': [('D', 120), ('R', 146), ('P', 138)],\n",
              " 'E': [('H', 86)],\n",
              " 'F': [('S', 99), ('B', 211)],\n",
              " 'G': [('B', 90)],\n",
              " 'M': [('L', 70), ('D', 75)],\n",
              " 'N': [('l', 87)],\n",
              " 'S': [('O', 151), ('A', 140), ('R', 80), ('F', 99)],\n",
              " 'O': [('Z', 71), ('S', 151)],\n",
              " 'P': [('R', 97), ('C', 138), ('B', 101)],\n",
              " 'R': [('S', 80), ('C', 146), ('P', 97)],\n",
              " 'D': [('M', 75), ('C', 120)],\n",
              " 'H': [('U', 98), ('E', 86)],\n",
              " 'l': [('V', 92), ('N', 87)],\n",
              " 'L': [('T', 111), ('M', 70)],\n",
              " 'T': [('A', 118), ('L', 111)],\n",
              " 'U': [('B', 85), ('H', 98), ('V', 142)],\n",
              " 'V': [('U', 142), ('l', 92)],\n",
              " 'Z': [('O', 71), ('A', 75)],\n",
              " 'B': [('F', 211), ('P', 101), ('G', 90), ('U', 85)]}"
            ]
          },
          "metadata": {},
          "execution_count": 50
        }
      ]
    },
    {
      "cell_type": "code",
      "source": [
        "\n",
        "start = input(\"Starting Node: \")[0]\n",
        "end = input(\"Finished Node: \")[0]\n",
        "\n",
        "cost = {start:0}\n",
        "open = []\n",
        "closed = []\n",
        "path = {start:0}\n",
        "flag=True\n",
        "while start!=end:\n",
        "  closed.append(start) #when traveled a node, appending to closed node\n",
        "  prev = h_v[start] #to keep the value of prev h_v, needed in to get total prev path cost for a node\n",
        "\n",
        "  if len(tree[start])==0 or start not in word.keys() or end not in word.keys(): #if no path found for a node\n",
        "    print(\"NO PATH\")\n",
        "    flag=False\n",
        "    break\n",
        "\n",
        "  else:\n",
        "    for i in tree[start]:\n",
        "      if i[0] not in closed:\n",
        "        open.append((i[0], cost[start]+i[1]+ h_v[i[0]] ))  #adding = prev path cost + node's cost + heuristic value\n",
        "\n",
        "\n",
        "    print(\"Calculated nodes: \",open)\n",
        "    if len(open)==0: #if find no from travering a node, \"open\" list will be blank\n",
        "      print(\"No sol\")\n",
        "      flag = False\n",
        "      break\n",
        "\n",
        "    open.sort(key=lambda x: x[1])\n",
        "    start = open[0][0] #min node\n",
        "    print(\"Traversed node ->\",open[0][0])\n",
        "    path[start] = open[0][1]\n",
        "\n",
        "    cost[start]=  open[0][1]-h_v[start]\n",
        "    f_cost = list(cost.values())[-1]\n",
        "    open=[] #reseting for new traveling nodes\n",
        "\n",
        "if flag:\n",
        "  print(\"\\nCost capture:\",cost)\n",
        "  print()\n",
        "  final_path=[]\n",
        "  for i in path.keys():\n",
        "    final_path.append(word[i])\n",
        "  print(\"Path:\",\" -> \".join(list(final_path)))\n",
        "  print('Total distance:',f_cost,'km')\n"
      ],
      "metadata": {
        "colab": {
          "base_uri": "https://localhost:8080/"
        },
        "id": "iymRygvxGv7-",
        "outputId": "3bc44214-00c9-44fa-b133-3a876e571602"
      },
      "execution_count": 52,
      "outputs": [
        {
          "output_type": "stream",
          "name": "stdout",
          "text": [
            "Starting Node: Arad\n",
            "Finished Node: Bucharest\n",
            "Calculated nodes:  [('Z', 449), ('T', 447), ('S', 393)]\n",
            "Traversed node -> S\n",
            "Calculated nodes:  [('O', 671), ('R', 413), ('F', 415)]\n",
            "Traversed node -> R\n",
            "Calculated nodes:  [('C', 526), ('P', 417)]\n",
            "Traversed node -> P\n",
            "Calculated nodes:  [('C', 615), ('B', 418)]\n",
            "Traversed node -> B\n",
            "\n",
            "Cost capture: {'A': 0, 'S': 140, 'R': 220, 'P': 317, 'B': 418}\n",
            "\n",
            "Path: Arad -> Sibiu -> RimnicuVilcea -> Pitesti -> Bucharest\n",
            "Total distance: 418 km\n"
          ]
        }
      ]
    },
    {
      "cell_type": "code",
      "source": [],
      "metadata": {
        "id": "jtxyPNQeWlnL"
      },
      "execution_count": 43,
      "outputs": []
    }
  ]
}