{
 "cells": [
  {
   "cell_type": "markdown",
   "metadata": {
    "id": "LjGNAQH1OA3l"
   },
   "source": [
    "## CSE422 lab: Genetic Algorithm"
   ]
  },
  {
   "cell_type": "markdown",
   "metadata": {
    "id": "7W2dAmlIEMXj"
   },
   "source": [
    "#### Genetic Algorithm Pseudo code:\n",
    "\n"
   ]
  },
  {
   "cell_type": "markdown",
   "metadata": {
    "id": "gdQcmGl0_jvc"
   },
   "source": [
    "**function** GENETIC-ALGORITHM( population, FITNESS-FN) **returns** an individual\n",
    "\n",
    "> **inputs:** population- a set of individuals/chromosomes; FITNESS-FN- a function that measures the fitness of an individual\n",
    "\n",
    ">**repeat**\n",
    "new_population $\\leftarrow$ empty set\n",
    ">>**for** $i=1$ **to** size ($ population$) **do**\n",
    "$$\n",
    "\\begin{array}{l}\n",
    "x \\leftarrow \\text { RANDOM-SELECTION }(\\text { population, FITNESS-FN }) \\\\\n",
    "y \\leftarrow \\text { RANDOM-SELECTION }(\\text { population, FITNESS-FN }) \\\\\n",
    "child  \\leftarrow \\operatorname{CROSSOVER}(x, y)\n",
    "\\end{array}\n",
    "$$\n",
    ">>>**if** (some_random_number < mutation_threshold) **then** child$\\leftarrow$ MUTATE ( child )\n",
    "\n",
    ">>>add child to new_population\n",
    "\n",
    ">>population $\\leftarrow$ new_population\n",
    "\n",
    ">**until** some individual is fit enough, or enough time has elapsed\n",
    "\n",
    ">**return** the best individual in population, according to FITNESS-FN\n",
    "\n"
   ]
  },
  {
   "cell_type": "markdown",
   "metadata": {
    "id": "nDkKH11UOHvy"
   },
   "source": [
    "### Skeleton Code:"
   ]
  },
  {
   "cell_type": "markdown",
   "metadata": {
    "id": "Z86D3OcTgZAN"
   },
   "source": [
    "### Importing libraries"
   ]
  },
  {
   "cell_type": "code",
   "execution_count": null,
   "metadata": {
    "id": "DVUZn7mX25Zj"
   },
   "outputs": [],
   "source": [
    "import numpy as np\n",
    "import random"
   ]
  },
  {
   "cell_type": "markdown",
   "metadata": {
    "id": "FrkwKxS0gUV5"
   },
   "source": [
    "### Fitness function"
   ]
  },
  {
   "cell_type": "code",
   "execution_count": null,
   "metadata": {
    "id": "CGWWuBT820Uo"
   },
   "outputs": [],
   "source": [
    "def fitness(population, n):\n",
    "\n",
    "  fitness_list=[]\n",
    "  for i in population:\n",
    "    sum = 0\n",
    "    for x in range(len(i)):\n",
    "      if i[x]==1:\n",
    "        sum+=trans[x]\n",
    "    fitness_list.append(sum)\n",
    "\n",
    "  return fitness_list\n",
    "\n"
   ]
  },
  {
   "cell_type": "markdown",
   "metadata": {
    "id": "F-5xhfamezBP"
   },
   "source": [
    "### Random Selection function\n",
    "\n",
    "This built-in function might help to create the weighted random selection:\n",
    "\n",
    "`numpy.random.choice(a, size, replace, p)`\n",
    "\n",
    "`p` are the weights of the individuals- value between 0 and 1; refers to the probability of each individual being selected.\n",
    "\n",
    "`a` is the array\n",
    "\n",
    "`size` how many samples to return\n",
    "\n",
    "`replace = True`"
   ]
  },
  {
   "cell_type": "code",
   "execution_count": null,
   "metadata": {
    "id": "mCgercZ4_DQ8"
   },
   "outputs": [],
   "source": [
    "import math\n",
    "def select(population, fit):\n",
    "\n",
    "  for _ in range(2): #removing highest 2 fitness value\n",
    "    max = -math.inf\n",
    "    for i in range(len(fit)):\n",
    "      if fit[i] > max: index, max =i, fit[i]\n",
    "\n",
    "    list(population).pop(index)\n",
    "    fit.pop(index)\n",
    "\n",
    "  return population,fit"
   ]
  },
  {
   "cell_type": "markdown",
   "metadata": {
    "id": "ysZu4DVmgshV"
   },
   "source": [
    "### Crossover function\n",
    "\n",
    "\n",
    "**function** CROSSOVER $(x, y)$ **returns** an individual\n",
    "\n",
    ">**inputs**: $x, y$  which are the parent individuals\n",
    "\n",
    ">$n \\leftarrow \\mathrm{LENGTH}(x) ; c \\leftarrow$ random number from 1 to $n$\n",
    "\n",
    ">**return** APPEND(SUBSTRING $(x, 1, c),$ SUBSTRING $(y, c+1, n))$"
   ]
  },
  {
   "cell_type": "code",
   "execution_count": null,
   "metadata": {
    "id": "ZtmoFQ9ugwN_"
   },
   "outputs": [],
   "source": [
    "def crossover(x, y):\n",
    "  position = random.randint(0, size-1)\n",
    "  return (x[0:position]+y[position:]), (y[0:position] + x[position:]) #returing two crossed child\n"
   ]
  },
  {
   "cell_type": "markdown",
   "metadata": {
    "id": "RJJuuGbyxzho"
   },
   "source": [
    "###Mutation function"
   ]
  },
  {
   "cell_type": "code",
   "execution_count": null,
   "metadata": {
    "id": "zRIG9DXmxzFw"
   },
   "outputs": [],
   "source": [
    "def mutate(child):\n",
    "  numOfMuate = int(size*mutation_threshold) # % need to change\n",
    "\n",
    "  for _ in range(numOfMuate):\n",
    "    index = random.randint(0, size-1)\n",
    "\n",
    "    if child[index]==1: child = child[0:index] +  [0] + child[index+1::]\n",
    "    else: child = child[0:index] +  [1] + child[index+1::]\n",
    "\n",
    "  return child"
   ]
  },
  {
   "cell_type": "markdown",
   "metadata": {
    "id": "yOPop-7n5WYL"
   },
   "source": [
    "### Genetic Algorithm Function"
   ]
  },
  {
   "cell_type": "code",
   "execution_count": null,
   "metadata": {
    "id": "uw2sfb9nW_yo"
   },
   "outputs": [],
   "source": [
    "def GA(population, n, mutation_threshold = 0.3):\n",
    "  for _ in range(40):\n",
    "    fit_values = fitness(population,n)\n",
    "\n",
    "    print(\"Fitness scores:\",fit_values)\n",
    "\n",
    "    for i, item in enumerate(fit_values):\n",
    "      if item == 0 and list(population[i]) != [0] * n:\n",
    "        string =\"\"\n",
    "        for _ in population[i]:string+=str(_)\n",
    "        return string\n",
    "\n",
    "    select(population, fit_values)\n",
    "\n",
    "    mutated_crossed_child = []\n",
    "\n",
    "    for i in range(start_population//2): #new population crossed\n",
    "      crossed_child = crossover(\n",
    "        list(population[random.randint(0, n)]),\n",
    "        list(population[random.randint(0, n)])\n",
    "        )\n",
    "\n",
    "      mutated_crossed_child.append(mutate(crossed_child[0]))\n",
    "      mutated_crossed_child.append(mutate(crossed_child[1]))\n",
    "\n",
    "    population = mutated_crossed_child\n",
    "\n",
    "  return -1"
   ]
  },
  {
   "cell_type": "markdown",
   "metadata": {
    "id": "cHKgDnDKb8mh"
   },
   "source": [
    "Running the Genetic Algorithm function"
   ]
  },
  {
   "cell_type": "code",
   "execution_count": null,
   "metadata": {
    "colab": {
     "base_uri": "https://localhost:8080/"
    },
    "id": "01Pz8Q_Jb7qE",
    "outputId": "9be585bd-352f-4c03-ca00-3a47315846fb"
   },
   "outputs": [
    {
     "name": "stdout",
     "output_type": "stream",
     "text": [
      "Fitness scores: [1290, -355, 7732, 5998, 1215, 7128, 655, 331, 6313, 7248]\n",
      "Fitness scores: [451, 1290, 6968, 7772, 6007, -355, 280, 5718, 935, 486]\n",
      "Fitness scores: [6653, 26, 451, 5913, 6762, 815, 7128, 315, 6033, 7128]\n",
      "Fitness scores: [655, 5718, 935, 26, 7323, 7257, 7772, 6193, 7062, 7323]\n",
      "Fitness scores: [-569, 7257, 7248, 646, 171, 6287, 7603, -94, 766, 486]\n",
      "Fitness scores: [486, 7102, 5913, 7257, 935, 6322, 580, 6933, 7248, 475]\n",
      "Fitness scores: [6287, 7408, 7297, -160, 486, 1215, 7222, 6127, 475, 6968]\n",
      "Fitness scores: [7062, 5913, -475, 6287, 6773, 6033, 6287, 6362, 6602, -315]\n",
      "Fitness scores: [646, 6202, 5838, 6202, 7772, 620, 6127, 160, 6167, 280]\n",
      "Fitness scores: [6602, 7288, 291, 195, -120, 7248, -475, -120, 6167, 935]\n",
      "Fitness scores: [6837, 5878, 646, 7323, 6007, 7128, 171, 6942, 646, -484]\n",
      "Fitness scores: [5998, 6167, 6933, 6473, 7577, 6202, 6677, 6933, 451, 580]\n",
      "Fitness scores: [6073, 460, 7408, 6762, 646, 5998, -289, 7128, 526, 5878]\n",
      "Fitness scores: [451, 7697, 646, -315, 331, -604, 6762, 6762, -289, 486]\n",
      "Fitness scores: [5718, 7577, -764, 7408, -9, 6353, 0, 6837, 7128, 7417]\n",
      "Fitness scores: [0, 6193, -289, 7288, 7062, 6933, -129, -129, 5878, 120]\n",
      "Desired output: 1011010\n"
     ]
    }
   ],
   "source": [
    "# file = open(\"lab2.txt\", \"r\").read().split(\"\\n\")\n",
    "file = open(\"lab2.txt\", \"r\").read().split(\"\\n\")\n",
    "\n",
    "size=int(file[0])\n",
    "trans=[]\n",
    "for i in file[1::]:\n",
    "  did, cash = i.split(\" \")\n",
    "  if did=='l':trans.append(int(cash)*(-1))\n",
    "  else:trans.append(int(cash))\n",
    "\n",
    "'''start_population denotes how many individuals/chromosomes are there\n",
    "  in the initial population n = 8'''\n",
    "start_population = 10\n",
    "\n",
    "'''if you want you can set mutation_threshold to a higher value,\n",
    "   to increase the chances of mutation'''\n",
    "mutation_threshold = 0.3\n",
    "\n",
    "'''calling the GA function'''\n",
    "population = np.random.randint(0, 2, (start_population, size))\n",
    "print(\"Desired output:\",GA(population, size, mutation_threshold))\n",
    "\n"
   ]
  },
  {
   "cell_type": "code",
   "execution_count": null,
   "metadata": {
    "id": "M8T2wEvb0hBj"
   },
   "outputs": [],
   "source": []
  }
 ],
 "metadata": {
  "colab": {
   "provenance": []
  },
  "kernelspec": {
   "display_name": "Python 3 (ipykernel)",
   "language": "python",
   "name": "python3"
  },
  "language_info": {
   "codemirror_mode": {
    "name": "ipython",
    "version": 3
   },
   "file_extension": ".py",
   "mimetype": "text/x-python",
   "name": "python",
   "nbconvert_exporter": "python",
   "pygments_lexer": "ipython3",
   "version": "3.9.12"
  }
 },
 "nbformat": 4,
 "nbformat_minor": 1
}
