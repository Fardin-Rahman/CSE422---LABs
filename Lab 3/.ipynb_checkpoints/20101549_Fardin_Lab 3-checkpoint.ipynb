{
 "cells": [
  {
   "cell_type": "code",
   "execution_count": 1,
   "metadata": {
    "colab": {
     "base_uri": "https://localhost:8080/"
    },
    "id": "0dt9kDKZeDie",
    "outputId": "e2b425b4-7738-4516-8dfb-5c24edaa9eb0"
   },
   "outputs": [
    {
     "name": "stdout",
     "output_type": "stream",
     "text": [
      "Student I'd: 20201003\n",
      "HP range: 5 20\n",
      "1. Depth and Branches ratio is 4:2\n",
      "2. Terminal States (leaf node values) are 8, 9, 15, 8, 10, 11, 5, 19, 15, 8, 20, 15, 18, 13, 10, 18\n",
      "3. Left life(HP) of the defender after maximum damage caused by the attacker is 17\n",
      "4. After Alpha-Beta Pruning Leaf Node Comparisons 11\n"
     ]
    }
   ],
   "source": [
    "import math, random\n",
    "\n",
    "def minimax_function(depth, index, maximizingPlayer, alpha, beta, max_depth, pruning, score, child):\n",
    "    if depth == max_depth:\n",
    "        return score[index]\n",
    "\n",
    "    if maximizingPlayer:\n",
    "        maxEval = -math.inf\n",
    "        for i in range(child):\n",
    "            val = minimax_function(depth + 1, index * child + i, False, alpha, beta, max_depth, pruning, score, child)\n",
    "            maxEval = max(maxEval, val)\n",
    "            alpha = max(alpha, maxEval)\n",
    "            if alpha >= beta:\n",
    "                pruning.append(child - i - 1)\n",
    "                break\n",
    "        return maxEval\n",
    "\n",
    "    else:\n",
    "        minEval = math.inf\n",
    "        for i in range(child):\n",
    "            val = minimax_function(depth + 1, index * child + i, True, alpha, beta, max_depth, pruning, score, child)\n",
    "            minEval = min(minEval, val)\n",
    "            beta = min(beta, minEval)\n",
    "            if alpha >= beta:\n",
    "                pruning.append(child - i - 1)\n",
    "                break\n",
    "        return minEval\n",
    "\n",
    "\n",
    "\n",
    "id = input(\"Student I'd: \")\n",
    "level, child = int(id[0]), int(id[2])\n",
    "initial_hp = int(id[-2:][::-1])\n",
    "min_, max_ = map(int, input(\"HP range: \").split())\n",
    "num_ran_val = child**(level *2)\n",
    "score, pruning= [], [0]\n",
    "for i in range(int(num_ran_val)):   score.append(random.randint(min_,max_))\n",
    "\n",
    "final_hp = initial_hp - minimax_function(0, 0, True, -math.inf, math.inf, level * 2, pruning, score, child)\n",
    "\n",
    "print(f\"1. Depth and Branches ratio is {level * 2}:{child}\")\n",
    "print(\"2. Terminal States (leaf node values) are\", str(score)[1:-1])\n",
    "print(\"3. Left life(HP) of the defender after maximum damage caused by the attacker is\", final_hp)\n",
    "print(\"4. After Alpha-Beta Pruning Leaf Node Comparisons\", len(score) - len(pruning))\n"
   ]
  },
  {
   "cell_type": "code",
   "execution_count": 27,
   "metadata": {
    "id": "eV-YfCXghYju"
   },
   "outputs": [],
   "source": []
  }
 ],
 "metadata": {
  "colab": {
   "provenance": []
  },
  "kernelspec": {
   "display_name": "Python 3 (ipykernel)",
   "language": "python",
   "name": "python3"
  },
  "language_info": {
   "codemirror_mode": {
    "name": "ipython",
    "version": 3
   },
   "file_extension": ".py",
   "mimetype": "text/x-python",
   "name": "python",
   "nbconvert_exporter": "python",
   "pygments_lexer": "ipython3",
   "version": "3.9.12"
  }
 },
 "nbformat": 4,
 "nbformat_minor": 1
}
